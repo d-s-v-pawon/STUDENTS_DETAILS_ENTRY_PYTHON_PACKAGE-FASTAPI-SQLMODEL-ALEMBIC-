{
 "cells": [
  {
   "cell_type": "code",
   "execution_count": 1,
   "metadata": {},
   "outputs": [],
   "source": [
    "from STUDENTS_PACKAGE.students import STUDENTS"
   ]
  },
  {
   "cell_type": "code",
   "execution_count": 2,
   "metadata": {},
   "outputs": [
    {
     "name": "stdout",
     "output_type": "stream",
     "text": [
      "THE STUDENT SIVA GENERAL DETAILS ENTRY IS COMPLETED\n",
      "Student added successfully\n"
     ]
    }
   ],
   "source": [
    "stu1 = STUDENTS(\"siva\",\"male\",21,\"vijetha\",9,\"a\",9,4757383843,99.9)"
   ]
  },
  {
   "cell_type": "code",
   "execution_count": 1,
   "metadata": {},
   "outputs": [],
   "source": [
    "from STANDARDS_PACKAGE.standards import STANDARDS"
   ]
  },
  {
   "cell_type": "code",
   "execution_count": null,
   "metadata": {},
   "outputs": [],
   "source": [
    "sta1 = STANDARDS()"
   ]
  }
 ],
 "metadata": {
  "kernelspec": {
   "display_name": "ALCHEMY_FASTAPI_ENV",
   "language": "python",
   "name": "python3"
  },
  "language_info": {
   "codemirror_mode": {
    "name": "ipython",
    "version": 3
   },
   "file_extension": ".py",
   "mimetype": "text/x-python",
   "name": "python",
   "nbconvert_exporter": "python",
   "pygments_lexer": "ipython3",
   "version": "3.10.11"
  }
 },
 "nbformat": 4,
 "nbformat_minor": 2
}
